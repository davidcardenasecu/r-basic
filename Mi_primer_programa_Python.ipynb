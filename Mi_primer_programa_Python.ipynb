{
  "nbformat": 4,
  "nbformat_minor": 0,
  "metadata": {
    "kernelspec": {
      "display_name": "Python 3",
      "language": "python",
      "name": "python3"
    },
    "language_info": {
      "codemirror_mode": {
        "name": "ipython",
        "version": 3
      },
      "file_extension": ".py",
      "mimetype": "text/x-python",
      "name": "python",
      "nbconvert_exporter": "python",
      "pygments_lexer": "ipython3",
      "version": "3.8.5"
    },
    "colab": {
      "name": "Mi primer programa Python",
      "provenance": [],
      "include_colab_link": true
    }
  },
  "cells": [
    {
      "cell_type": "markdown",
      "metadata": {
        "id": "view-in-github",
        "colab_type": "text"
      },
      "source": [
        "<a href=\"https://colab.research.google.com/github/davidcardenasecu/r-basic/blob/master/Mi_primer_programa_Python.ipynb\" target=\"_parent\"><img src=\"https://colab.research.google.com/assets/colab-badge.svg\" alt=\"Open In Colab\"/></a>"
      ]
    },
    {
      "cell_type": "code",
      "metadata": {
        "id": "Np7vlaj1qj1w"
      },
      "source": [
        ""
      ],
      "execution_count": null,
      "outputs": []
    },
    {
      "cell_type": "markdown",
      "metadata": {
        "id": "ihLaChQZq1GA"
      },
      "source": [
        "# Nueva sección"
      ]
    },
    {
      "cell_type": "markdown",
      "metadata": {
        "id": "9_vtOOdZq7Qx"
      },
      "source": [
        "# Mi primer programa"
      ]
    },
    {
      "cell_type": "code",
      "metadata": {
        "colab": {
          "base_uri": "https://localhost:8080/"
        },
        "id": "1l84Ip1trA8k",
        "outputId": "03406f12-997f-4851-af89-0939212b794c"
      },
      "source": [
        "print(\"hola Mundo\")\n",
        "print()\n",
        "print(\"tu nombre es David Xavier Cárdenas Giler\")\n",
        "print(\"hola mundo\\n\\ntu nombre es David Xacier Cárdenas Giler\")\n",
        "print(\"hola mundo\", \"tu nombre es David Xavier\", \"Cárdenas Giler\", end=\"***\")"
      ],
      "execution_count": 5,
      "outputs": [
        {
          "output_type": "stream",
          "text": [
            "hola Mundo\n",
            "\n",
            "tu nombre es David Xavier Cárdenas Giler\n",
            "hola mundo\n",
            "\n",
            "tu nombre es David Xacier Cárdenas Giler\n",
            "hola mundo tu nombre es David Xavier Cárdenas Giler***"
          ],
          "name": "stdout"
        }
      ]
    },
    {
      "cell_type": "code",
      "metadata": {
        "id": "vtD8bfbStSbe"
      },
      "source": [
        ""
      ],
      "execution_count": null,
      "outputs": []
    }
  ]
}